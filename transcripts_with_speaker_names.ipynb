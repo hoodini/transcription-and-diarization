{
  "nbformat": 4,
  "nbformat_minor": 0,
  "metadata": {
    "colab": {
      "provenance": [],
      "machine_shape": "hm",
      "gpuType": "A100",
      "include_colab_link": true
    },
    "kernelspec": {
      "name": "python3",
      "display_name": "Python 3"
    },
    "language_info": {
      "name": "python"
    },
    "accelerator": "GPU"
  },
  "cells": [
    {
      "cell_type": "markdown",
      "metadata": {
        "id": "view-in-github",
        "colab_type": "text"
      },
      "source": [
        "<a href=\"https://colab.research.google.com/github/hoodini/transcription-and-diarization/blob/main/transcripts_with_speaker_names.ipynb\" target=\"_parent\"><img src=\"https://colab.research.google.com/assets/colab-badge.svg\" alt=\"Open In Colab\"/></a>"
      ]
    },
    {
      "cell_type": "markdown",
      "source": [
        "Notes on usage:\n",
        "\n",
        "- Make sure to [change runtime to GPU](https://www.tutorialspoint.com/google_colab/google_colab_using_free_gpu.htm).\n",
        "- The transcript will be saved in Files, which you can find in the menu on the left.\n",
        "- Change the number of speakers below if different from two.\n",
        "- Pick a bigger model if you want more accuracy and a smaller model if you want the program to run faster ([more info](https://github.com/openai/whisper#available-models-and-languages)).\n",
        "- If you know the language being spoken is English, then change language to 'English' as this improves performance.\n",
        "\n",
        "\n",
        "High level overview of what's happening here:\n",
        "\n",
        "\n",
        "1.   I'm using Open AI's Whisper model to seperate audio into segments and generate transcripts.\n",
        "2.   I'm then generating speaker embeddings for each segments.\n",
        "3.   Then I'm using agglomerative clustering on the embeddings to identify the speaker for each segment.   \n",
        "\n",
        "Let me know if I can make it better!\n"
      ],
      "metadata": {
        "id": "ACobbJnIR_ni"
      }
    },
    {
      "cell_type": "code",
      "source": [
        "# upload audio file\n",
        "from google.colab import files\n",
        "uploaded = files.upload()\n",
        "path = next(iter(uploaded))"
      ],
      "metadata": {
        "id": "IxYITgmGfR9p",
        "colab": {
          "base_uri": "https://localhost:8080/",
          "height": 73
        },
        "outputId": "43a2c141-dd6e-4483-d084-23a17dddf2e3"
      },
      "execution_count": 1,
      "outputs": [
        {
          "output_type": "display_data",
          "data": {
            "text/plain": [
              "<IPython.core.display.HTML object>"
            ],
            "text/html": [
              "\n",
              "     <input type=\"file\" id=\"files-f85220e5-5801-443d-8b78-06245552a5e1\" name=\"files[]\" multiple disabled\n",
              "        style=\"border:none\" />\n",
              "     <output id=\"result-f85220e5-5801-443d-8b78-06245552a5e1\">\n",
              "      Upload widget is only available when the cell has been executed in the\n",
              "      current browser session. Please rerun this cell to enable.\n",
              "      </output>\n",
              "      <script>// Copyright 2017 Google LLC\n",
              "//\n",
              "// Licensed under the Apache License, Version 2.0 (the \"License\");\n",
              "// you may not use this file except in compliance with the License.\n",
              "// You may obtain a copy of the License at\n",
              "//\n",
              "//      http://www.apache.org/licenses/LICENSE-2.0\n",
              "//\n",
              "// Unless required by applicable law or agreed to in writing, software\n",
              "// distributed under the License is distributed on an \"AS IS\" BASIS,\n",
              "// WITHOUT WARRANTIES OR CONDITIONS OF ANY KIND, either express or implied.\n",
              "// See the License for the specific language governing permissions and\n",
              "// limitations under the License.\n",
              "\n",
              "/**\n",
              " * @fileoverview Helpers for google.colab Python module.\n",
              " */\n",
              "(function(scope) {\n",
              "function span(text, styleAttributes = {}) {\n",
              "  const element = document.createElement('span');\n",
              "  element.textContent = text;\n",
              "  for (const key of Object.keys(styleAttributes)) {\n",
              "    element.style[key] = styleAttributes[key];\n",
              "  }\n",
              "  return element;\n",
              "}\n",
              "\n",
              "// Max number of bytes which will be uploaded at a time.\n",
              "const MAX_PAYLOAD_SIZE = 100 * 1024;\n",
              "\n",
              "function _uploadFiles(inputId, outputId) {\n",
              "  const steps = uploadFilesStep(inputId, outputId);\n",
              "  const outputElement = document.getElementById(outputId);\n",
              "  // Cache steps on the outputElement to make it available for the next call\n",
              "  // to uploadFilesContinue from Python.\n",
              "  outputElement.steps = steps;\n",
              "\n",
              "  return _uploadFilesContinue(outputId);\n",
              "}\n",
              "\n",
              "// This is roughly an async generator (not supported in the browser yet),\n",
              "// where there are multiple asynchronous steps and the Python side is going\n",
              "// to poll for completion of each step.\n",
              "// This uses a Promise to block the python side on completion of each step,\n",
              "// then passes the result of the previous step as the input to the next step.\n",
              "function _uploadFilesContinue(outputId) {\n",
              "  const outputElement = document.getElementById(outputId);\n",
              "  const steps = outputElement.steps;\n",
              "\n",
              "  const next = steps.next(outputElement.lastPromiseValue);\n",
              "  return Promise.resolve(next.value.promise).then((value) => {\n",
              "    // Cache the last promise value to make it available to the next\n",
              "    // step of the generator.\n",
              "    outputElement.lastPromiseValue = value;\n",
              "    return next.value.response;\n",
              "  });\n",
              "}\n",
              "\n",
              "/**\n",
              " * Generator function which is called between each async step of the upload\n",
              " * process.\n",
              " * @param {string} inputId Element ID of the input file picker element.\n",
              " * @param {string} outputId Element ID of the output display.\n",
              " * @return {!Iterable<!Object>} Iterable of next steps.\n",
              " */\n",
              "function* uploadFilesStep(inputId, outputId) {\n",
              "  const inputElement = document.getElementById(inputId);\n",
              "  inputElement.disabled = false;\n",
              "\n",
              "  const outputElement = document.getElementById(outputId);\n",
              "  outputElement.innerHTML = '';\n",
              "\n",
              "  const pickedPromise = new Promise((resolve) => {\n",
              "    inputElement.addEventListener('change', (e) => {\n",
              "      resolve(e.target.files);\n",
              "    });\n",
              "  });\n",
              "\n",
              "  const cancel = document.createElement('button');\n",
              "  inputElement.parentElement.appendChild(cancel);\n",
              "  cancel.textContent = 'Cancel upload';\n",
              "  const cancelPromise = new Promise((resolve) => {\n",
              "    cancel.onclick = () => {\n",
              "      resolve(null);\n",
              "    };\n",
              "  });\n",
              "\n",
              "  // Wait for the user to pick the files.\n",
              "  const files = yield {\n",
              "    promise: Promise.race([pickedPromise, cancelPromise]),\n",
              "    response: {\n",
              "      action: 'starting',\n",
              "    }\n",
              "  };\n",
              "\n",
              "  cancel.remove();\n",
              "\n",
              "  // Disable the input element since further picks are not allowed.\n",
              "  inputElement.disabled = true;\n",
              "\n",
              "  if (!files) {\n",
              "    return {\n",
              "      response: {\n",
              "        action: 'complete',\n",
              "      }\n",
              "    };\n",
              "  }\n",
              "\n",
              "  for (const file of files) {\n",
              "    const li = document.createElement('li');\n",
              "    li.append(span(file.name, {fontWeight: 'bold'}));\n",
              "    li.append(span(\n",
              "        `(${file.type || 'n/a'}) - ${file.size} bytes, ` +\n",
              "        `last modified: ${\n",
              "            file.lastModifiedDate ? file.lastModifiedDate.toLocaleDateString() :\n",
              "                                    'n/a'} - `));\n",
              "    const percent = span('0% done');\n",
              "    li.appendChild(percent);\n",
              "\n",
              "    outputElement.appendChild(li);\n",
              "\n",
              "    const fileDataPromise = new Promise((resolve) => {\n",
              "      const reader = new FileReader();\n",
              "      reader.onload = (e) => {\n",
              "        resolve(e.target.result);\n",
              "      };\n",
              "      reader.readAsArrayBuffer(file);\n",
              "    });\n",
              "    // Wait for the data to be ready.\n",
              "    let fileData = yield {\n",
              "      promise: fileDataPromise,\n",
              "      response: {\n",
              "        action: 'continue',\n",
              "      }\n",
              "    };\n",
              "\n",
              "    // Use a chunked sending to avoid message size limits. See b/62115660.\n",
              "    let position = 0;\n",
              "    do {\n",
              "      const length = Math.min(fileData.byteLength - position, MAX_PAYLOAD_SIZE);\n",
              "      const chunk = new Uint8Array(fileData, position, length);\n",
              "      position += length;\n",
              "\n",
              "      const base64 = btoa(String.fromCharCode.apply(null, chunk));\n",
              "      yield {\n",
              "        response: {\n",
              "          action: 'append',\n",
              "          file: file.name,\n",
              "          data: base64,\n",
              "        },\n",
              "      };\n",
              "\n",
              "      let percentDone = fileData.byteLength === 0 ?\n",
              "          100 :\n",
              "          Math.round((position / fileData.byteLength) * 100);\n",
              "      percent.textContent = `${percentDone}% done`;\n",
              "\n",
              "    } while (position < fileData.byteLength);\n",
              "  }\n",
              "\n",
              "  // All done.\n",
              "  yield {\n",
              "    response: {\n",
              "      action: 'complete',\n",
              "    }\n",
              "  };\n",
              "}\n",
              "\n",
              "scope.google = scope.google || {};\n",
              "scope.google.colab = scope.google.colab || {};\n",
              "scope.google.colab._files = {\n",
              "  _uploadFiles,\n",
              "  _uploadFilesContinue,\n",
              "};\n",
              "})(self);\n",
              "</script> "
            ]
          },
          "metadata": {}
        },
        {
          "output_type": "stream",
          "name": "stdout",
          "text": [
            "Saving roman.m4a to roman.m4a\n"
          ]
        }
      ]
    },
    {
      "cell_type": "code",
      "source": [
        "path"
      ],
      "metadata": {
        "colab": {
          "base_uri": "https://localhost:8080/",
          "height": 35
        },
        "id": "2NWDhyxS0i6M",
        "outputId": "dc679da4-77ae-4cb5-b701-5f43af0cf1e9"
      },
      "execution_count": 2,
      "outputs": [
        {
          "output_type": "execute_result",
          "data": {
            "text/plain": [
              "'roman.m4a'"
            ],
            "application/vnd.google.colaboratory.intrinsic+json": {
              "type": "string"
            }
          },
          "metadata": {},
          "execution_count": 2
        }
      ]
    },
    {
      "cell_type": "code",
      "source": [
        "num_speakers = 3 #@param {type:\"integer\"}\n",
        "\n",
        "language = 'Hebrew' #@param ['any', 'English', 'Hebrew']\n",
        "\n",
        "model_size = 'large' #@param ['tiny', 'base', 'small', 'medium', 'large']\n",
        "\n",
        "model_name = model_size\n",
        "if language == 'English' and model_size != 'large':\n",
        "  model_name += '.en'\n",
        "elif language == 'Hebrew':\n",
        "  model_name += '.he'\n"
      ],
      "metadata": {
        "id": "buGt4moR5Mac"
      },
      "execution_count": 3,
      "outputs": []
    },
    {
      "cell_type": "code",
      "source": [
        "!pip install -q git+https://github.com/openai/whisper.git > /dev/null\n",
        "!pip install -q git+https://github.com/pyannote/pyannote-audio > /dev/null\n",
        "!pip install librosa"
      ],
      "metadata": {
        "colab": {
          "base_uri": "https://localhost:8080/"
        },
        "id": "WoLNqmPOWvmc",
        "outputId": "7677442e-b1c7-4bdd-ad69-ea09fbcfcb1f"
      },
      "execution_count": 15,
      "outputs": [
        {
          "output_type": "stream",
          "name": "stdout",
          "text": [
            "Requirement already satisfied: librosa in /usr/local/lib/python3.10/dist-packages (0.10.1)\n",
            "Requirement already satisfied: audioread>=2.1.9 in /usr/local/lib/python3.10/dist-packages (from librosa) (3.0.0)\n",
            "Requirement already satisfied: numpy!=1.22.0,!=1.22.1,!=1.22.2,>=1.20.3 in /usr/local/lib/python3.10/dist-packages (from librosa) (1.23.5)\n",
            "Requirement already satisfied: scipy>=1.2.0 in /usr/local/lib/python3.10/dist-packages (from librosa) (1.11.2)\n",
            "Requirement already satisfied: scikit-learn>=0.20.0 in /usr/local/lib/python3.10/dist-packages (from librosa) (1.2.2)\n",
            "Requirement already satisfied: joblib>=0.14 in /usr/local/lib/python3.10/dist-packages (from librosa) (1.3.2)\n",
            "Requirement already satisfied: decorator>=4.3.0 in /usr/local/lib/python3.10/dist-packages (from librosa) (4.4.2)\n",
            "Requirement already satisfied: numba>=0.51.0 in /usr/local/lib/python3.10/dist-packages (from librosa) (0.56.4)\n",
            "Requirement already satisfied: soundfile>=0.12.1 in /usr/local/lib/python3.10/dist-packages (from librosa) (0.12.1)\n",
            "Requirement already satisfied: pooch>=1.0 in /usr/local/lib/python3.10/dist-packages (from librosa) (1.7.0)\n",
            "Requirement already satisfied: soxr>=0.3.2 in /usr/local/lib/python3.10/dist-packages (from librosa) (0.3.6)\n",
            "Requirement already satisfied: typing-extensions>=4.1.1 in /usr/local/lib/python3.10/dist-packages (from librosa) (4.5.0)\n",
            "Requirement already satisfied: lazy-loader>=0.1 in /usr/local/lib/python3.10/dist-packages (from librosa) (0.3)\n",
            "Requirement already satisfied: msgpack>=1.0 in /usr/local/lib/python3.10/dist-packages (from librosa) (1.0.5)\n",
            "Requirement already satisfied: llvmlite<0.40,>=0.39.0dev0 in /usr/local/lib/python3.10/dist-packages (from numba>=0.51.0->librosa) (0.39.1)\n",
            "Requirement already satisfied: setuptools in /usr/local/lib/python3.10/dist-packages (from numba>=0.51.0->librosa) (67.7.2)\n",
            "Requirement already satisfied: platformdirs>=2.5.0 in /usr/local/lib/python3.10/dist-packages (from pooch>=1.0->librosa) (3.10.0)\n",
            "Requirement already satisfied: packaging>=20.0 in /usr/local/lib/python3.10/dist-packages (from pooch>=1.0->librosa) (23.1)\n",
            "Requirement already satisfied: requests>=2.19.0 in /usr/local/lib/python3.10/dist-packages (from pooch>=1.0->librosa) (2.31.0)\n",
            "Requirement already satisfied: threadpoolctl>=2.0.0 in /usr/local/lib/python3.10/dist-packages (from scikit-learn>=0.20.0->librosa) (3.2.0)\n",
            "Requirement already satisfied: cffi>=1.0 in /usr/local/lib/python3.10/dist-packages (from soundfile>=0.12.1->librosa) (1.15.1)\n",
            "Requirement already satisfied: pycparser in /usr/local/lib/python3.10/dist-packages (from cffi>=1.0->soundfile>=0.12.1->librosa) (2.21)\n",
            "Requirement already satisfied: charset-normalizer<4,>=2 in /usr/local/lib/python3.10/dist-packages (from requests>=2.19.0->pooch>=1.0->librosa) (3.2.0)\n",
            "Requirement already satisfied: idna<4,>=2.5 in /usr/local/lib/python3.10/dist-packages (from requests>=2.19.0->pooch>=1.0->librosa) (3.4)\n",
            "Requirement already satisfied: urllib3<3,>=1.21.1 in /usr/local/lib/python3.10/dist-packages (from requests>=2.19.0->pooch>=1.0->librosa) (2.0.4)\n",
            "Requirement already satisfied: certifi>=2017.4.17 in /usr/local/lib/python3.10/dist-packages (from requests>=2.19.0->pooch>=1.0->librosa) (2023.7.22)\n"
          ]
        }
      ]
    },
    {
      "cell_type": "code",
      "execution_count": 16,
      "metadata": {
        "id": "O0_tup8RAyBy"
      },
      "outputs": [],
      "source": [
        "import whisper\n",
        "import datetime\n",
        "import librosa\n",
        "import subprocess\n",
        "\n",
        "import torch\n",
        "import pyannote.audio\n",
        "from pyannote.audio.pipelines.speaker_verification import PretrainedSpeakerEmbedding\n",
        "embedding_model = PretrainedSpeakerEmbedding(\n",
        "    \"speechbrain/spkrec-ecapa-voxceleb\",\n",
        "    device=torch.device(\"cuda\"))\n",
        "\n",
        "from pyannote.audio import Audio\n",
        "from pyannote.core import Segment\n",
        "\n",
        "import wave\n",
        "import contextlib\n",
        "\n",
        "from sklearn.cluster import AgglomerativeClustering\n",
        "import numpy as np"
      ]
    },
    {
      "cell_type": "code",
      "source": [
        "# create an instance of the Audio class\n",
        "audio = Audio()"
      ],
      "metadata": {
        "id": "MSMPnpo6YwcF"
      },
      "execution_count": 12,
      "outputs": []
    },
    {
      "cell_type": "code",
      "source": [
        "if path[-3:] != 'wav':\n",
        "  subprocess.call(['ffmpeg', '-i', path, 'audio.wav', '-y'])\n",
        "  path = 'audio.wav'"
      ],
      "metadata": {
        "id": "DiE3hs3jnTlf"
      },
      "execution_count": 6,
      "outputs": []
    },
    {
      "cell_type": "code",
      "source": [
        "model = whisper.load_model(model_size)"
      ],
      "metadata": {
        "id": "Vdbad9x5CHkC",
        "colab": {
          "base_uri": "https://localhost:8080/"
        },
        "outputId": "9432292a-14d0-4a78-9da4-edbe4823e024"
      },
      "execution_count": 7,
      "outputs": [
        {
          "output_type": "stream",
          "name": "stderr",
          "text": [
            "100%|█████████████████████████████████████| 2.87G/2.87G [00:49<00:00, 62.8MiB/s]\n"
          ]
        }
      ]
    },
    {
      "cell_type": "code",
      "source": [
        "result = model.transcribe(path)\n",
        "segments = result[\"segments\"]"
      ],
      "metadata": {
        "id": "z4uw8CrovIN1"
      },
      "execution_count": 8,
      "outputs": []
    },
    {
      "cell_type": "code",
      "source": [
        "with contextlib.closing(wave.open(path,'r')) as f:\n",
        "  frames = f.getnframes()\n",
        "  rate = f.getframerate()\n",
        "  duration = frames / float(rate)"
      ],
      "metadata": {
        "id": "U1sZYZ_pkV1u"
      },
      "execution_count": 9,
      "outputs": []
    },
    {
      "cell_type": "code",
      "source": [
        "def segment_embedding(segment):\n",
        "  start = segment[\"start\"]\n",
        "  # Whisper overshoots the end timestamp in the last segment\n",
        "  end = min(duration, segment[\"end\"])\n",
        "  clip = Segment(start, end)\n",
        "  waveform, sample_rate = audio.crop(path, clip)\n",
        "\n",
        "  # Convert the waveform to mono here\n",
        "  mono_waveform = librosa.to_mono(waveform.numpy())\n",
        "\n",
        "  # Adding an extra dimension to represent the channel\n",
        "  mono_waveform = mono_waveform[None, :]\n",
        "\n",
        "  return embedding_model(torch.tensor(mono_waveform)[None])\n"
      ],
      "metadata": {
        "id": "i9R5bpc3_EOL"
      },
      "execution_count": 13,
      "outputs": []
    },
    {
      "cell_type": "code",
      "source": [
        "embeddings = np.zeros(shape=(len(segments), 192))\n",
        "for i, segment in enumerate(segments):\n",
        "  embeddings[i] = segment_embedding(segment)\n",
        "\n",
        "embeddings = np.nan_to_num(embeddings)\n"
      ],
      "metadata": {
        "id": "UPnKe_yQPWkd"
      },
      "execution_count": 17,
      "outputs": []
    },
    {
      "cell_type": "code",
      "source": [
        "clustering = AgglomerativeClustering(num_speakers).fit(embeddings)\n",
        "labels = clustering.labels_\n",
        "for i in range(len(segments)):\n",
        "  segments[i][\"speaker\"] = 'SPEAKER ' + str(labels[i] + 1)"
      ],
      "metadata": {
        "id": "QHvbUf8sgUVA"
      },
      "execution_count": 18,
      "outputs": []
    },
    {
      "cell_type": "code",
      "source": [
        "def time(secs):\n",
        "  return datetime.timedelta(seconds=round(secs))\n",
        "\n",
        "f = open(\"transcript.txt\", \"w\")\n",
        "\n",
        "for (i, segment) in enumerate(segments):\n",
        "  if i == 0 or segments[i - 1][\"speaker\"] != segment[\"speaker\"]:\n",
        "    f.write(\"\\n\" + segment[\"speaker\"] + ' ' + str(time(segment[\"start\"])) + '\\n')\n",
        "  f.write(segment[\"text\"][1:] + ' ')\n",
        "f.close()"
      ],
      "metadata": {
        "id": "k4kitnXJLcsX"
      },
      "execution_count": 19,
      "outputs": []
    },
    {
      "cell_type": "code",
      "source": [
        "def time(secs):\n",
        "    return str(datetime.timedelta(seconds=round(secs)))"
      ],
      "metadata": {
        "id": "r5cYGgGIWUeo"
      },
      "execution_count": 20,
      "outputs": []
    },
    {
      "cell_type": "code",
      "source": [
        "with open(\"transcript.srt\", \"w\") as f:\n",
        "    for i, segment in enumerate(segments):\n",
        "        # Write segment index\n",
        "        f.write(f\"{i+1}\\n\")\n",
        "\n",
        "        # Write time range in SRT format (hh:mm:ss,mmm)\n",
        "        start_time = time(segment[\"start\"]).split(':')\n",
        "        end_time = time(segment[\"end\"]).split(':')\n",
        "        f.write(f\"{start_time[0]}:{start_time[1]}:{float(start_time[2]):06.3f} --> {end_time[0]}:{end_time[1]}:{float(end_time[2]):06.3f}\\n\")\n",
        "\n",
        "        # Write speaker and text\n",
        "        f.write(f\"{segment['speaker']}: {segment['text'][1:]}\\n\")\n",
        "\n",
        "        # Add a blank line to separate different dialogues\n",
        "        f.write(\"\\n\")"
      ],
      "metadata": {
        "id": "_RFpW62eV2k9"
      },
      "execution_count": 21,
      "outputs": []
    },
    {
      "cell_type": "code",
      "source": [
        "with open('transcript.srt', 'r') as file:\n",
        "    data = file.read()\n",
        "\n",
        "print(data)\n"
      ],
      "metadata": {
        "colab": {
          "base_uri": "https://localhost:8080/"
        },
        "id": "SZhByoFVWhCo",
        "outputId": "ce426b27-b390-421c-9082-d7ae0f944e32"
      },
      "execution_count": 22,
      "outputs": [
        {
          "output_type": "stream",
          "name": "stdout",
          "text": [
            "1\n",
            "0:00:00.000 --> 0:00:14.000\n",
            "SPEAKER 3: קשה לחשוב על איתוי מצמרר מזה. דווקא היום ביום השנה ה-15 לרצח תאי רדה החליט בית המשפט לקיים סיור בזירה בבית הספר בקצרין.\n",
            "\n",
            "2\n",
            "0:00:14.000 --> 0:00:30.000\n",
            "SPEAKER 1: ולבוא ליום הזה עם כל הראיות האלה, הן החדשות והן הישנות, זה קשה מאוד. עד כמה שניסיתי להחזיק את עצמי חזקה שמה, היו שלבים שקצת לא יכולתי אפילו לעמוד על הרגליים.\n",
            "\n",
            "3\n",
            "0:00:30.000 --> 0:00:39.000\n",
            "SPEAKER 2: אתה בלחץ עכשיו? לא. למה? לפני דיון כזה פה בזירה. דיון, שבתים רצים לדעת, לבדוק את זה, זה טוב?\n",
            "\n",
            "4\n",
            "0:00:40.000 --> 0:00:47.000\n",
            "SPEAKER 2: איך ההרגשה לחזור לפה היום? רגילה הרגשה. מה יכול להרגיש באדם שלא עשה שום דבר? רגיל.\n",
            "\n",
            "5\n",
            "0:00:48.000 --> 0:00:55.000\n",
            "SPEAKER 3: רומן זדורוב חוזר לכאן בפעם השלישית מאז הרצח. בפעם הראשונה היה זה כששחזר מול מצלמות המשטרה.\n",
            "\n",
            "6\n",
            "0:00:55.000 --> 0:01:00.000\n",
            "SPEAKER 2: אני רוצה קצת לשון. כל הזמן לחץ, אני לא יכול, אני לא ברזל.\n",
            "\n",
            "7\n",
            "0:01:00.000 --> 0:01:06.000\n",
            "SPEAKER 3: בפעם השנייה היה זה במהלך משפטו הראשון. גם אז קיימו השופטים סיור בזירה.\n",
            "\n",
            "8\n",
            "0:01:06.000 --> 0:01:14.000\n",
            "SPEAKER 2: שופטים מתחילים להיכנס לתיק ומסתכלים, מדברים, שואלים. מה שלא היה במשפט הקודם.\n",
            "\n",
            "9\n",
            "0:01:14.000 --> 0:01:22.000\n",
            "SPEAKER 2: פה אני רואה משהו אחר, יחס אחר. שרצים לבדוק את התיק, רצים למצוא את הצדק, לא סתם לבזבז לבדוק תיק ולתראות.\n",
            "\n",
            "10\n",
            "0:01:22.000 --> 0:01:29.000\n",
            "SPEAKER 1: השחזור הקודם, כשהשופטים הגיעו לבית הספר, נראה לי שהם באו לאיזה טיול ברמת הגולן.\n",
            "\n",
            "11\n",
            "0:01:30.000 --> 0:01:33.000\n",
            "SPEAKER 3: השיור היום מתקיים במסגרת המשפט החוזר לרומן זדורוב.\n",
            "\n",
            "12\n",
            "0:01:33.000 --> 0:01:39.000\n",
            "SPEAKER 3: אל בית הספר שרק היום מתלמידים הגיעו שלושת השופטים צוותי התביעה וההגנה.\n",
            "\n",
            "13\n",
            "0:01:39.000 --> 0:01:40.000\n",
            "SPEAKER 2: בוקר טוב, מה נשמע?\n",
            "\n",
            "14\n",
            "0:01:40.000 --> 0:01:41.000\n",
            "SPEAKER 1: בוקר טוב.\n",
            "\n",
            "15\n",
            "0:01:41.000 --> 0:01:44.000\n",
            "SPEAKER 2: יש לזה ציפיות מהדיון פה היום?\n",
            "\n",
            "16\n",
            "0:01:44.000 --> 0:01:46.000\n",
            "SPEAKER 2: כמו כל דיון.\n",
            "\n",
            "17\n",
            "0:01:46.000 --> 0:01:48.000\n",
            "SPEAKER 3: ציפיות מהסיור היום?\n",
            "\n",
            "18\n",
            "0:01:48.000 --> 0:01:49.000\n",
            "SPEAKER 1: כן, ציפיות יש, כן.\n",
            "\n",
            "19\n",
            "0:01:49.000 --> 0:01:50.000\n",
            "SPEAKER 2: מים?\n",
            "\n",
            "20\n",
            "0:01:50.000 --> 0:01:53.000\n",
            "SPEAKER 3: מים? שירוש אותי כזה מפחות.\n",
            "\n",
            "21\n",
            "0:01:53.000 --> 0:02:00.000\n",
            "SPEAKER 3: בבקשת בית הספר, שמנסה להיפטר מהתדמית שדווקא בו בעקבות הרצח, נעשר עלינו לצלם בשטחו.\n",
            "\n",
            "22\n",
            "0:02:00.000 --> 0:02:02.000\n",
            "SPEAKER 3: לרבות השנים השתנתה הזירה.\n",
            "\n",
            "23\n",
            "0:02:02.000 --> 0:02:07.000\n",
            "SPEAKER 3: פרקליטו של זדורוב ביקש להדמות את הקורבן בשחזור משלו בתא השירותים.\n",
            "\n",
            "24\n",
            "0:02:07.000 --> 0:02:18.000\n",
            "SPEAKER 1: התגמתי לבית המשפט כי רצח תאיר על ידי הרוצחת בתוך התא, כשהדלת סגורה, היה אפשרי גם אפשרי, בקלות.\n",
            "\n",
            "25\n",
            "0:02:18.000 --> 0:02:32.000\n",
            "SPEAKER 1: דימיתי את הבובה לא עלינו לתאיר המנוחה, וראיתי כיצד מאחור הרוצחת שיספה את גרונל המוות, תוך כדי מאבק בתוך התא.\n",
            "\n",
            "26\n",
            "0:02:32.000 --> 0:02:36.000\n",
            "SPEAKER 3: כמה מאות מטרים משם, מתחת למצבת אבן קרה, שוכב את תאיר.\n",
            "\n",
            "27\n",
            "0:02:36.000 --> 0:02:40.000\n",
            "SPEAKER 3: ילדה שחייה נעצרו היום לפני 15 שנים.\n",
            "\n",
            "28\n",
            "0:02:40.000 --> 0:02:43.000\n",
            "SPEAKER 3: ועד עכשיו סיפורה מוסיף לטלטל, מדינה אשלמה.\n",
            "\n",
            "\n"
          ]
        }
      ]
    }
  ]
}